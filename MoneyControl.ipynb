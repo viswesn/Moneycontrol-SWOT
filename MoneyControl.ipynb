{
 "cells": [
  {
   "cell_type": "code",
   "execution_count": 1,
   "id": "f7ba9ff1-79ae-4878-b1b4-5b9cdfe7c7ca",
   "metadata": {
    "tags": []
   },
   "outputs": [
    {
     "name": "stdout",
     "output_type": "stream",
     "text": [
      "Requirement already satisfied: pandas in c:\\users\\vnathan\\appdata\\local\\anaconda3\\lib\\site-packages (1.5.3)\n",
      "Requirement already satisfied: python-dateutil>=2.8.1 in c:\\users\\vnathan\\appdata\\local\\anaconda3\\lib\\site-packages (from pandas) (2.8.2)\n",
      "Requirement already satisfied: pytz>=2020.1 in c:\\users\\vnathan\\appdata\\local\\anaconda3\\lib\\site-packages (from pandas) (2022.7)\n",
      "Requirement already satisfied: numpy>=1.21.0 in c:\\users\\vnathan\\appdata\\local\\anaconda3\\lib\\site-packages (from pandas) (1.24.3)\n",
      "Requirement already satisfied: six>=1.5 in c:\\users\\vnathan\\appdata\\local\\anaconda3\\lib\\site-packages (from python-dateutil>=2.8.1->pandas) (1.16.0)\n"
     ]
    }
   ],
   "source": [
    "!pip install pandas\n"
   ]
  },
  {
   "cell_type": "code",
   "execution_count": 6,
   "id": "92ee3df8-0bfe-4215-8a33-5ae0db56b54e",
   "metadata": {
    "tags": []
   },
   "outputs": [],
   "source": [
    "import pandas as pd"
   ]
  },
  {
   "cell_type": "code",
   "execution_count": 7,
   "id": "d56bc85b-74c7-45c5-a815-d5cb16e79e84",
   "metadata": {
    "tags": []
   },
   "outputs": [
    {
     "name": "stdout",
     "output_type": "stream",
     "text": [
      "                   Company                                               Link  \\\n",
      "0        A & M Febcon Ltd.  https://www.moneycontrol.com/india/stockpriceq...   \n",
      "1  A and M Jumbo Bags Ltd.  https://www.moneycontrol.com/india/stockpriceq...   \n",
      "2      A B Infrabuild Ltd.  https://www.moneycontrol.com/india/stockpriceq...   \n",
      "3     A F Enterprises Ltd.  https://www.moneycontrol.com/india/stockpriceq...   \n",
      "4       A G Universal Ltd.  https://www.moneycontrol.com/india/stockpriceq...   \n",
      "\n",
      "                   Sector  Strengths  Weaknesses  Opportunities  Threats  \\\n",
      "0           Miscellaneous          1           4              2        0   \n",
      "1  Containers & Packaging          1           3              1        0   \n",
      "2                  Cement         10           0              1        0   \n",
      "3    Finance - Investment          3           8              1        0   \n",
      "4           Miscellaneous          2           2              3        0   \n",
      "\n",
      "   MCEssential  \n",
      "0           29  \n",
      "1           36  \n",
      "2           82  \n",
      "3           36  \n",
      "4           78  \n"
     ]
    }
   ],
   "source": [
    "df = pd.read_csv('MoneyControlSWOT10Sep2023.csv')\n",
    "print(df.head())"
   ]
  },
  {
   "cell_type": "code",
   "execution_count": 8,
   "id": "02b80db2-b932-4961-a992-8c9edba66cc3",
   "metadata": {
    "tags": []
   },
   "outputs": [
    {
     "data": {
      "text/plain": [
       "(4689, 8)"
      ]
     },
     "execution_count": 8,
     "metadata": {},
     "output_type": "execute_result"
    }
   ],
   "source": [
    "df.shape"
   ]
  },
  {
   "cell_type": "code",
   "execution_count": 4,
   "id": "027fee6d-fba2-4799-aaaa-859325428785",
   "metadata": {
    "tags": []
   },
   "outputs": [],
   "source": [
    "sector=df['Sector'].unique().astype(str)\n"
   ]
  },
  {
   "cell_type": "code",
   "execution_count": 5,
   "id": "9e32e1ef-8f8a-4464-b31e-789a74089c4d",
   "metadata": {
    "tags": []
   },
   "outputs": [
    {
     "name": "stdout",
     "output_type": "stream",
     "text": [
      "['Abrasives', 'Aerospace & Defence', 'Agriculture', 'Air Conditioners', 'Airlines', 'Aluminium & Aluminium Products', 'Amusement Parks/Recreation/Club', 'Aquaculture', 'Auto Ancillaries', 'Auto Ancillaries - Air Conditioning Parts', 'Auto Ancillaries - Auto, Truck & Motorcycle Parts', 'Auto Ancillaries - Axle Shafts', 'Auto Ancillaries - Axle shafts', 'Auto Ancillaries - Bearings', 'Auto Ancillaries - Brakes', 'Auto Ancillaries - Bus Body', 'Auto Ancillaries - Castings/Forgings', 'Auto Ancillaries - Clutches', 'Auto Ancillaries - Diesel Engines', 'Auto Ancillaries - Engine Parts', 'Auto Ancillaries - Gears', 'Auto Ancillaries - Head lamps & lights', 'Auto Ancillaries - Others', 'Auto Ancillaries - Pistons', 'Auto Ancillaries - Seating covers & parts', 'Auto Ancillaries - Sheet Metals', 'Auto Ancillaries - Shock absorbers', 'Auto Ancillaries - Spare Parts & Accessories', 'Auto Ancillaries - Springs', 'Auto Ancillaries - Tyres & Rubber Products', 'Auto Ancillaries - Wheels', 'Auto Ancillary', 'Automobile - 2 & 3 Wheelers', 'Automobile - Auto & Truck Manufacturers', 'Automobile - Dealers & Distributors', 'Automobile - LCVS/ HVCS', 'Automobile - Passenger Cars', 'Automobile - Tractors', 'Automobile - Trucks/LCVs', 'BPO/ITeS', 'Bank - Private', 'Bank - Public', 'Banks - Private Sector', 'Batteries', 'Beverages', 'Biotechnology & Medical Research', 'Breweries & Distilleries', 'Cable & D2H', 'Cables', 'Cables - Power & Others', 'Carbon Black', 'Castings & Forgings', 'Cement', 'Cement - Mini', 'Ceramics & Granite', 'Ceramics/Marble/Granite/Sanitaryware', 'Chemicals', 'Cigarettes', 'Cigarettes/Tobacco', 'Coal', 'Commodity Chemicals', 'Compressors / Pumps', 'Computer Peripherals', 'Computers - Software - Training', 'Computers - Software Medium & Small', 'Construction & Contracting - Civil', 'Construction & Contracting - Housing', 'Construction & Contracting - Real Estate', 'Construction - Infrastructure', 'Construction - Real Estate', 'Construction - Residential & Commercial Complexes', 'Consumer Food', 'Containers & Packaging', 'Courier Services', 'Cycles', 'Defence', 'Detergents', 'Detergents & Soaps', 'Diamond  &  Jewellery', 'Diamond Cutting & Jewellery & Precious Metals', 'Diversified', 'Diversified Chemicals', 'Diversified chemicals', 'Domestic Appliances', 'Dyes & Pigments', 'Edible Oils & Solvent Extraction', 'Educational Institutions', 'Electric Equipment', 'Electric Equipment - Boilers / Turbines', 'Electric Equipment - Switchgears', 'Electric Equipment - Transformers', 'Electrodes & Electrical Equipments', 'Electrodes & Welding Equipment', 'Electronic Goods', 'Electronics - Components', 'Engineering', 'Engineering & Construction', 'Engineering - Construction', 'Engineering - Heavy', 'Engineering - Industrial Equipments', 'Fasteners', 'Ferro Manganese', 'Fertilizers', 'Film Production, Distribution & Entertainment', 'Finance - General', 'Finance - Housing', 'Finance - Investment', 'Finance - Investments', 'Finance - Leasing & Hire Purchase', 'Finance - NBFC', 'Finance - Others', 'Finance - Stock Broking', 'Finance - others', 'Finance Term Lending', 'Fish/Poultry & Meat Products', 'Food & Drug Retailing', 'Food Processing', 'Footwear', 'Gas Distribution', 'Glass & Glass Products', 'Gold', 'Gold ETF', 'Ground Freight & Logistics Services', 'Hospital & Healthcare Services', 'Hotel, Resort & Restaurants', 'Household & Personal Products', 'IT - Education', 'IT - Networking', 'IT Services & Consulting', 'Infrastructure', 'Infrastructure - General', 'Iron & Steel', 'LPG', 'Labs & Life Sciences Services', 'Laminates/Decoratives', 'Leather', 'Leather Products', 'Leisure Services', 'Life & Health Insurance', 'Logistics', 'Lubricants', 'Machine Tools', 'Media', 'Media & Entertainment', 'Medical Equipment/Supplies/Accessories', 'Metals & Mining', 'Metals - Castings/Forgings', 'Metals - Non Ferrous', 'Mining & Minerals', 'Misc. Commercial Services', 'Miscellaneous', 'Multiline Insurance & Brokers', 'Oil Exploration and Production', 'Online Services', 'Other Construction Materials', 'Other agriculture products', 'Others-Industrial Gases & Fuels', 'Packaging', 'Packaging - Films', 'Packaging - Packaging Materials', 'Packaging - Polyfilms', 'Packaging - Sacks and Bags', 'Packaging Materials-Containers & Packaging', 'Packaging Materials-Plastic Products', 'Paints', 'Paper', 'Paper & Forest Products', 'Paper & Paper Products', 'Pesticides & Agro Chemicals', 'Pesticides & Agrochemicals', 'Pharmaceuticals', 'Pharmaceuticals & Drugs', 'Photographic Products', 'Plantations - Tea & Coffee', 'Plastic Products', 'Plastic Products - Others', 'Plastics', 'Plastics - Moulded Articles and Furnitures', 'Plastics - Pet Bottels, Jars & Containers', 'Plastics - Self Adhesive Tapes', 'Plastics - Thermoplastics', 'Plastics - Tubes/Pipes/Hoses & Fittings', 'Ports', 'Power - Generation & Distribution', 'Power Generation/Distribution', 'Printing & Publishing', 'Printing & Stationery', 'Printing And Publishing', 'Railways Wagons', 'Ratings', 'Real Estate Operations', 'Real Estate Rental, Development & Operations', 'Refineries', 'Refractories', 'Reinsurance', 'Renewables', 'Retailing', 'Rubber  Products', 'Ship Building', 'Shipping', 'Software', 'Solvent  Extraction', 'Speciality Chemicals', 'Speciality Retailers', 'Specialty Mining & Metals', 'Steel - Medium & Small', 'Steel - Rolling', 'Steel - Tubes & Pipes', 'Sugar', 'TV Broadcasting & Software Production', 'Tea/Coffee', 'Telecommunication - Equipment', 'Telecommunication - Service Provider', 'Telecommunications Services', 'Textile - Machinery', 'Textile - Spinning', 'Textiles', 'Textiles & Apparel', 'Textiles - Composite Mills', 'Textiles - General', 'Textiles - Hosiery & Knitwear', 'Textiles - Manmade', 'Textiles - Processing', 'Textiles - Spinning - Cotton Blended', 'Textiles - Spinning - Synthetic Blended', 'Trading', 'Transmission Towers / Equipments', 'Transport Infrastructure', 'Travel Services', 'Vegetable Oils & Products', 'Watches & Accessories', 'Wood & Wood Products', 'diversified', 'nan', 'other agriculture products']\n"
     ]
    }
   ],
   "source": [
    "print(sorted(sector))"
   ]
  },
  {
   "cell_type": "code",
   "execution_count": 10,
   "id": "c81f867a-b1ac-4ccf-bec2-6b6b7abcba0f",
   "metadata": {
    "tags": []
   },
   "outputs": [
    {
     "data": {
      "text/plain": [
       "(116, 8)"
      ]
     },
     "execution_count": 10,
     "metadata": {},
     "output_type": "execute_result"
    }
   ],
   "source": [
    "dfMC = df[(df['MCEssential'] > df['MCEssential'].quantile(0.75)) & (df['Strengths'] > df['Strengths'].quantile(0.95)) ]\n",
    "dfMC.shape"
   ]
  },
  {
   "cell_type": "code",
   "execution_count": 13,
   "id": "53cb6aae-783c-42aa-829e-d091491ed68f",
   "metadata": {
    "tags": []
   },
   "outputs": [
    {
     "data": {
      "text/html": [
       "<div>\n",
       "<style scoped>\n",
       "    .dataframe tbody tr th:only-of-type {\n",
       "        vertical-align: middle;\n",
       "    }\n",
       "\n",
       "    .dataframe tbody tr th {\n",
       "        vertical-align: top;\n",
       "    }\n",
       "\n",
       "    .dataframe thead th {\n",
       "        text-align: right;\n",
       "    }\n",
       "</style>\n",
       "<table border=\"1\" class=\"dataframe\">\n",
       "  <thead>\n",
       "    <tr style=\"text-align: right;\">\n",
       "      <th></th>\n",
       "      <th>Company</th>\n",
       "      <th>Link</th>\n",
       "      <th>Sector</th>\n",
       "      <th>Strengths</th>\n",
       "      <th>Weaknesses</th>\n",
       "      <th>Opportunities</th>\n",
       "      <th>Threats</th>\n",
       "      <th>MCEssential</th>\n",
       "    </tr>\n",
       "  </thead>\n",
       "  <tbody>\n",
       "    <tr>\n",
       "      <th>4079</th>\n",
       "      <td>Swaraj Engines Ltd.</td>\n",
       "      <td>https://www.moneycontrol.com/india/stockpriceq...</td>\n",
       "      <td>Auto Ancillaries - Diesel Engines</td>\n",
       "      <td>14</td>\n",
       "      <td>1</td>\n",
       "      <td>1</td>\n",
       "      <td>0</td>\n",
       "      <td>100</td>\n",
       "    </tr>\n",
       "    <tr>\n",
       "      <th>822</th>\n",
       "      <td>CMS Info Systems Ltd.</td>\n",
       "      <td>https://www.moneycontrol.com/india/stockpriceq...</td>\n",
       "      <td>Software</td>\n",
       "      <td>13</td>\n",
       "      <td>0</td>\n",
       "      <td>1</td>\n",
       "      <td>0</td>\n",
       "      <td>100</td>\n",
       "    </tr>\n",
       "    <tr>\n",
       "      <th>3723</th>\n",
       "      <td>Shreyans Industries Ltd.</td>\n",
       "      <td>https://www.moneycontrol.com/india/stockpriceq...</td>\n",
       "      <td>Paper &amp; Forest Products</td>\n",
       "      <td>17</td>\n",
       "      <td>2</td>\n",
       "      <td>3</td>\n",
       "      <td>0</td>\n",
       "      <td>94</td>\n",
       "    </tr>\n",
       "    <tr>\n",
       "      <th>1189</th>\n",
       "      <td>Esab India Ltd.</td>\n",
       "      <td>https://www.moneycontrol.com/india/stockpriceq...</td>\n",
       "      <td>Electrodes &amp; Welding Equipment</td>\n",
       "      <td>17</td>\n",
       "      <td>1</td>\n",
       "      <td>2</td>\n",
       "      <td>0</td>\n",
       "      <td>94</td>\n",
       "    </tr>\n",
       "    <tr>\n",
       "      <th>3430</th>\n",
       "      <td>Ruchira Papers Ltd.</td>\n",
       "      <td>https://www.moneycontrol.com/india/stockpriceq...</td>\n",
       "      <td>Paper &amp; Forest Products</td>\n",
       "      <td>16</td>\n",
       "      <td>1</td>\n",
       "      <td>3</td>\n",
       "      <td>0</td>\n",
       "      <td>94</td>\n",
       "    </tr>\n",
       "    <tr>\n",
       "      <th>3638</th>\n",
       "      <td>Shanthi Gears Ltd.</td>\n",
       "      <td>https://www.moneycontrol.com/india/stockpriceq...</td>\n",
       "      <td>Auto Ancillaries - Gears</td>\n",
       "      <td>15</td>\n",
       "      <td>1</td>\n",
       "      <td>2</td>\n",
       "      <td>0</td>\n",
       "      <td>94</td>\n",
       "    </tr>\n",
       "    <tr>\n",
       "      <th>3810</th>\n",
       "      <td>SKF India Ltd.</td>\n",
       "      <td>https://www.moneycontrol.com/india/stockpriceq...</td>\n",
       "      <td>Auto Ancillaries - Bearings</td>\n",
       "      <td>14</td>\n",
       "      <td>0</td>\n",
       "      <td>2</td>\n",
       "      <td>0</td>\n",
       "      <td>94</td>\n",
       "    </tr>\n",
       "    <tr>\n",
       "      <th>73</th>\n",
       "      <td>Action Construction Equipment Ltd.</td>\n",
       "      <td>https://www.moneycontrol.com/india/stockpriceq...</td>\n",
       "      <td>Engineering - Industrial Equipments</td>\n",
       "      <td>13</td>\n",
       "      <td>1</td>\n",
       "      <td>1</td>\n",
       "      <td>0</td>\n",
       "      <td>94</td>\n",
       "    </tr>\n",
       "    <tr>\n",
       "      <th>1331</th>\n",
       "      <td>Gandhi Special Tubes Ltd.</td>\n",
       "      <td>https://www.moneycontrol.com/india/stockpriceq...</td>\n",
       "      <td>Metals - Castings/Forgings</td>\n",
       "      <td>13</td>\n",
       "      <td>0</td>\n",
       "      <td>1</td>\n",
       "      <td>0</td>\n",
       "      <td>94</td>\n",
       "    </tr>\n",
       "    <tr>\n",
       "      <th>2236</th>\n",
       "      <td>KSolves India Ltd.</td>\n",
       "      <td>https://www.moneycontrol.com/india/stockpriceq...</td>\n",
       "      <td>Software</td>\n",
       "      <td>13</td>\n",
       "      <td>0</td>\n",
       "      <td>1</td>\n",
       "      <td>0</td>\n",
       "      <td>94</td>\n",
       "    </tr>\n",
       "    <tr>\n",
       "      <th>4446</th>\n",
       "      <td>Varun Beverages Ltd.</td>\n",
       "      <td>https://www.moneycontrol.com/india/stockpriceq...</td>\n",
       "      <td>Beverages</td>\n",
       "      <td>14</td>\n",
       "      <td>2</td>\n",
       "      <td>1</td>\n",
       "      <td>0</td>\n",
       "      <td>92</td>\n",
       "    </tr>\n",
       "    <tr>\n",
       "      <th>3950</th>\n",
       "      <td>Steelcast Ltd.</td>\n",
       "      <td>https://www.moneycontrol.com/india/stockpriceq...</td>\n",
       "      <td>Auto Ancillaries - Castings/Forgings</td>\n",
       "      <td>18</td>\n",
       "      <td>0</td>\n",
       "      <td>2</td>\n",
       "      <td>0</td>\n",
       "      <td>88</td>\n",
       "    </tr>\n",
       "    <tr>\n",
       "      <th>1584</th>\n",
       "      <td>HBL Power Systems Ltd.</td>\n",
       "      <td>https://www.moneycontrol.com/india/stockpriceq...</td>\n",
       "      <td>Batteries</td>\n",
       "      <td>16</td>\n",
       "      <td>0</td>\n",
       "      <td>2</td>\n",
       "      <td>0</td>\n",
       "      <td>88</td>\n",
       "    </tr>\n",
       "    <tr>\n",
       "      <th>3667</th>\n",
       "      <td>Shilchar Technologies Ltd.</td>\n",
       "      <td>https://www.moneycontrol.com/india/stockpriceq...</td>\n",
       "      <td>Electric Equipment</td>\n",
       "      <td>16</td>\n",
       "      <td>0</td>\n",
       "      <td>2</td>\n",
       "      <td>0</td>\n",
       "      <td>88</td>\n",
       "    </tr>\n",
       "    <tr>\n",
       "      <th>3414</th>\n",
       "      <td>RPG Life Sciences Ltd.</td>\n",
       "      <td>https://www.moneycontrol.com/india/stockpriceq...</td>\n",
       "      <td>Pharmaceuticals &amp; Drugs</td>\n",
       "      <td>15</td>\n",
       "      <td>1</td>\n",
       "      <td>2</td>\n",
       "      <td>0</td>\n",
       "      <td>88</td>\n",
       "    </tr>\n",
       "    <tr>\n",
       "      <th>2595</th>\n",
       "      <td>Mold Tek Technologies Ltd.</td>\n",
       "      <td>https://www.moneycontrol.com/india/stockpriceq...</td>\n",
       "      <td>BPO/ITeS</td>\n",
       "      <td>14</td>\n",
       "      <td>2</td>\n",
       "      <td>2</td>\n",
       "      <td>0</td>\n",
       "      <td>88</td>\n",
       "    </tr>\n",
       "    <tr>\n",
       "      <th>3272</th>\n",
       "      <td>Ramkrishna Forgings Ltd.</td>\n",
       "      <td>https://www.moneycontrol.com/india/stockpriceq...</td>\n",
       "      <td>Auto Ancillaries - Castings/Forgings</td>\n",
       "      <td>14</td>\n",
       "      <td>1</td>\n",
       "      <td>2</td>\n",
       "      <td>0</td>\n",
       "      <td>88</td>\n",
       "    </tr>\n",
       "    <tr>\n",
       "      <th>1821</th>\n",
       "      <td>Ingersoll Rand (India) Ltd.</td>\n",
       "      <td>https://www.moneycontrol.com/india/stockpriceq...</td>\n",
       "      <td>Compressors / Pumps</td>\n",
       "      <td>14</td>\n",
       "      <td>3</td>\n",
       "      <td>1</td>\n",
       "      <td>0</td>\n",
       "      <td>88</td>\n",
       "    </tr>\n",
       "    <tr>\n",
       "      <th>2251</th>\n",
       "      <td>L&amp;T Technology Services Ltd.</td>\n",
       "      <td>https://www.moneycontrol.com/india/stockpriceq...</td>\n",
       "      <td>Engineering</td>\n",
       "      <td>14</td>\n",
       "      <td>0</td>\n",
       "      <td>1</td>\n",
       "      <td>0</td>\n",
       "      <td>88</td>\n",
       "    </tr>\n",
       "    <tr>\n",
       "      <th>2411</th>\n",
       "      <td>Man Infraconstruction Ltd.</td>\n",
       "      <td>https://www.moneycontrol.com/india/stockpriceq...</td>\n",
       "      <td>Construction - Infrastructure</td>\n",
       "      <td>13</td>\n",
       "      <td>1</td>\n",
       "      <td>3</td>\n",
       "      <td>0</td>\n",
       "      <td>88</td>\n",
       "    </tr>\n",
       "  </tbody>\n",
       "</table>\n",
       "</div>"
      ],
      "text/plain": [
       "                                 Company  \\\n",
       "4079                 Swaraj Engines Ltd.   \n",
       "822                CMS Info Systems Ltd.   \n",
       "3723            Shreyans Industries Ltd.   \n",
       "1189                     Esab India Ltd.   \n",
       "3430                 Ruchira Papers Ltd.   \n",
       "3638                  Shanthi Gears Ltd.   \n",
       "3810                      SKF India Ltd.   \n",
       "73    Action Construction Equipment Ltd.   \n",
       "1331           Gandhi Special Tubes Ltd.   \n",
       "2236                  KSolves India Ltd.   \n",
       "4446                Varun Beverages Ltd.   \n",
       "3950                      Steelcast Ltd.   \n",
       "1584              HBL Power Systems Ltd.   \n",
       "3667          Shilchar Technologies Ltd.   \n",
       "3414              RPG Life Sciences Ltd.   \n",
       "2595          Mold Tek Technologies Ltd.   \n",
       "3272            Ramkrishna Forgings Ltd.   \n",
       "1821         Ingersoll Rand (India) Ltd.   \n",
       "2251        L&T Technology Services Ltd.   \n",
       "2411          Man Infraconstruction Ltd.   \n",
       "\n",
       "                                                   Link  \\\n",
       "4079  https://www.moneycontrol.com/india/stockpriceq...   \n",
       "822   https://www.moneycontrol.com/india/stockpriceq...   \n",
       "3723  https://www.moneycontrol.com/india/stockpriceq...   \n",
       "1189  https://www.moneycontrol.com/india/stockpriceq...   \n",
       "3430  https://www.moneycontrol.com/india/stockpriceq...   \n",
       "3638  https://www.moneycontrol.com/india/stockpriceq...   \n",
       "3810  https://www.moneycontrol.com/india/stockpriceq...   \n",
       "73    https://www.moneycontrol.com/india/stockpriceq...   \n",
       "1331  https://www.moneycontrol.com/india/stockpriceq...   \n",
       "2236  https://www.moneycontrol.com/india/stockpriceq...   \n",
       "4446  https://www.moneycontrol.com/india/stockpriceq...   \n",
       "3950  https://www.moneycontrol.com/india/stockpriceq...   \n",
       "1584  https://www.moneycontrol.com/india/stockpriceq...   \n",
       "3667  https://www.moneycontrol.com/india/stockpriceq...   \n",
       "3414  https://www.moneycontrol.com/india/stockpriceq...   \n",
       "2595  https://www.moneycontrol.com/india/stockpriceq...   \n",
       "3272  https://www.moneycontrol.com/india/stockpriceq...   \n",
       "1821  https://www.moneycontrol.com/india/stockpriceq...   \n",
       "2251  https://www.moneycontrol.com/india/stockpriceq...   \n",
       "2411  https://www.moneycontrol.com/india/stockpriceq...   \n",
       "\n",
       "                                    Sector  Strengths  Weaknesses  \\\n",
       "4079     Auto Ancillaries - Diesel Engines         14           1   \n",
       "822                               Software         13           0   \n",
       "3723               Paper & Forest Products         17           2   \n",
       "1189        Electrodes & Welding Equipment         17           1   \n",
       "3430               Paper & Forest Products         16           1   \n",
       "3638              Auto Ancillaries - Gears         15           1   \n",
       "3810           Auto Ancillaries - Bearings         14           0   \n",
       "73     Engineering - Industrial Equipments         13           1   \n",
       "1331            Metals - Castings/Forgings         13           0   \n",
       "2236                              Software         13           0   \n",
       "4446                             Beverages         14           2   \n",
       "3950  Auto Ancillaries - Castings/Forgings         18           0   \n",
       "1584                             Batteries         16           0   \n",
       "3667                    Electric Equipment         16           0   \n",
       "3414               Pharmaceuticals & Drugs         15           1   \n",
       "2595                              BPO/ITeS         14           2   \n",
       "3272  Auto Ancillaries - Castings/Forgings         14           1   \n",
       "1821                   Compressors / Pumps         14           3   \n",
       "2251                           Engineering         14           0   \n",
       "2411         Construction - Infrastructure         13           1   \n",
       "\n",
       "      Opportunities  Threats  MCEssential  \n",
       "4079              1        0          100  \n",
       "822               1        0          100  \n",
       "3723              3        0           94  \n",
       "1189              2        0           94  \n",
       "3430              3        0           94  \n",
       "3638              2        0           94  \n",
       "3810              2        0           94  \n",
       "73                1        0           94  \n",
       "1331              1        0           94  \n",
       "2236              1        0           94  \n",
       "4446              1        0           92  \n",
       "3950              2        0           88  \n",
       "1584              2        0           88  \n",
       "3667              2        0           88  \n",
       "3414              2        0           88  \n",
       "2595              2        0           88  \n",
       "3272              2        0           88  \n",
       "1821              1        0           88  \n",
       "2251              1        0           88  \n",
       "2411              3        0           88  "
      ]
     },
     "execution_count": 13,
     "metadata": {},
     "output_type": "execute_result"
    }
   ],
   "source": [
    "sorting_order_1 = ['MCEssential', 'Strengths', 'Opportunities']\n",
    "sorting_order_2 = ['Strengths', 'Opportunities', 'MCEssential']\n",
    "sorted_df = dfMC.sort_values(by=sorting_order_1, ascending=False)\n",
    "sorted_df.head(20)"
   ]
  },
  {
   "cell_type": "code",
   "execution_count": 22,
   "id": "5a478b7c-adcb-4a2c-9d13-1e5f6a00a3e6",
   "metadata": {
    "tags": []
   },
   "outputs": [],
   "source": [
    "sorted_df.to_csv(\"MoneyControlSWOT10Sep2023_Output.csv\", index=False)"
   ]
  },
  {
   "cell_type": "code",
   "execution_count": null,
   "id": "5385d1e1-4bf8-4afb-9f7c-060099782414",
   "metadata": {},
   "outputs": [],
   "source": []
  }
 ],
 "metadata": {
  "kernelspec": {
   "display_name": "Python 3 (ipykernel)",
   "language": "python",
   "name": "python3"
  },
  "language_info": {
   "codemirror_mode": {
    "name": "ipython",
    "version": 3
   },
   "file_extension": ".py",
   "mimetype": "text/x-python",
   "name": "python",
   "nbconvert_exporter": "python",
   "pygments_lexer": "ipython3",
   "version": "3.11.4"
  }
 },
 "nbformat": 4,
 "nbformat_minor": 5
}
